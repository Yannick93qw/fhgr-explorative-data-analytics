{
 "cells": [
  {
   "cell_type": "markdown",
   "metadata": {},
   "source": [
    "# Aufgabe 1\n",
    "Schreiben sie einen Generator (Funktion mit \"yield\"), der aufsteigend ungerade Zahlen ab 20 ausgibt. Rufen sie diesen Generator in einer Schleife auf und speichern sie die ersten 10 Werte in einer Liste. Geben sie davon die Werte 4-7 aus."
   ]
  },
  {
   "cell_type": "code",
   "execution_count": 5,
   "metadata": {},
   "outputs": [
    {
     "name": "stdout",
     "output_type": "stream",
     "text": [
      "[29, 31, 33]\n"
     ]
    }
   ],
   "source": [
    "def odd_numbers_from_20():\n",
    "    x = 20\n",
    "    while True:\n",
    "        if x % 2 != 0:\n",
    "            yield x\n",
    "        x += 1\n",
    "\n",
    "generator = odd_numbers_from_20()\n",
    "result = [next(generator) for x in range(10)]\n",
    "print(result[4:7])"
   ]
  },
  {
   "cell_type": "markdown",
   "metadata": {},
   "source": [
    "# Aufgabe 2\n",
    "Denken sie sich ihre Lottozahlen für \"6 aus 45\" aus und speichern sie diese als Liste.\n",
    "Versuchen sie nun mittels eines Zufallsprozesses auch Lottozahlen zu ermitteln und zählen sie die Versuche, bis ihre Zahlen erreicht werden."
   ]
  },
  {
   "cell_type": "code",
   "execution_count": 69,
   "metadata": {},
   "outputs": [
    {
     "name": "stdout",
     "output_type": "stream",
     "text": [
      "You won the lottery\n",
      "You needed 12980731 number of tries\n"
     ]
    }
   ],
   "source": [
    "import random\n",
    "\n",
    "lottery_numbers = range(45)\n",
    "winning_numbers = sorted(random.sample(lottery_numbers, 6))\n",
    "\n",
    "tries = 0\n",
    "while True:\n",
    "    guess = range(45)\n",
    "    guessed_numbers = random.sample(guess, 6)\n",
    "\n",
    "    if sorted(guessed_numbers) == winning_numbers:\n",
    "        print(f\"You won the lottery\")\n",
    "        break\n",
    "\n",
    "    tries += 1    \n",
    "\n",
    "print(f\"You needed {tries} number of tries\")\n",
    "\n"
   ]
  },
  {
   "cell_type": "markdown",
   "metadata": {},
   "source": [
    "# Aufgabe: Mittlere Anzahl Freunde von Freunden\n",
    "Ermitteln sie analog zum Beispiel die mittlere Anzahl der Freunde von Freunden im Netzwerk von DataSciencester."
   ]
  },
  {
   "cell_type": "code",
   "execution_count": 92,
   "metadata": {},
   "outputs": [
    {
     "name": "stdout",
     "output_type": "stream",
     "text": [
      "2.0\n"
     ]
    }
   ],
   "source": [
    "from collections import Counter                   # not loaded by default\n",
    "\n",
    "#Nutzer\n",
    "users = [\n",
    "    { \"id\": 0, \"name\": \"Hero\" },\n",
    "    { \"id\": 1, \"name\": \"Dunn\" },\n",
    "    { \"id\": 2, \"name\": \"Sue\" },\n",
    "    { \"id\": 3, \"name\": \"Chi\" },\n",
    "    { \"id\": 4, \"name\": \"Thor\" },\n",
    "    { \"id\": 5, \"name\": \"Clive\" },\n",
    "    { \"id\": 6, \"name\": \"Hicks\" },\n",
    "    { \"id\": 7, \"name\": \"Devin\" },\n",
    "    { \"id\": 8, \"name\": \"Kate\" },\n",
    "    { \"id\": 9, \"name\": \"Klein\" }\n",
    "]\n",
    "\n",
    "#wer kennt wen?\n",
    "friendship_pairs = [(0, 1), (0, 2), (1, 2), (1, 3), (2, 3), (3, 4),\n",
    "                    (4, 5), (5, 6), (5, 7), (6, 8), (7, 8), (8, 9)]\n",
    "\n",
    "#Ziel: für jeden Nutzer direkt die \"Freunde\" ablesen können\n",
    "\n",
    "# Initialize the dict with an empty list for each user id:\n",
    "friendships = {user[\"id\"]: [] for user in users}\n",
    "\n",
    "# And loop over the friendship pairs to populate it:\n",
    "for i, j in friendship_pairs:\n",
    "    friendships[i].append(j)  # Add j as a friend of user i\n",
    "    friendships[j].append(i)  # Add i as a friend of user j\n",
    "\n",
    "\n",
    "def number_of_friends(user):\n",
    "    \"\"\"How many friends does _user_ have?\"\"\"\n",
    "    user_id = user[\"id\"]\n",
    "    friend_ids = friendships[user_id]\n",
    "    return len(friend_ids)\n",
    "\n",
    "def friends_of_friends(user):\n",
    "    user_id = user[\"id\"]\n",
    "    return Counter(\n",
    "        foaf_id\n",
    "        for friend_id in friendships[user_id]     # For each of my friends,\n",
    "        for foaf_id in friendships[friend_id]     # find their friends\n",
    "        if foaf_id != user_id                     # who aren't me\n",
    "        and foaf_id not in friendships[user_id]   # and aren't my friends.\n",
    "    )\n",
    "\n",
    "def number_of_foaf(user):\n",
    "    \"\"\"How many friends of a friend th _user_ have?\"\"\"\n",
    "    return len(friends_of_friends(user))\n",
    "\n",
    "\n",
    "\n",
    "\n",
    "total_connections_foaf = sum(number_of_foaf(user)\n",
    "                        for user in users)\n",
    "\n",
    "\n",
    "num_users = len(users)\n",
    "avg_connections_foaf = total_connections_foaf / num_users\n",
    "\n",
    "print(avg_connections_foaf)"
   ]
  },
  {
   "cell_type": "markdown",
   "metadata": {},
   "source": [
    "# Gruppenübung zur Datenanalyse 1\n",
    "\n",
    "Im Moodle ist der bekannte Datensatz \"Iris\" hinterlegt. Sichten sie den Datensatz und überlegen sie, was man damit anfangen könnte.\n",
    "\n",
    "Fragen: Wie ist er aufgebaut? Welche Arten von Daten(werten) liegen vor? Was könnte man mit dem Datensatz anfangen?\n",
    "\n",
    "Lesen sie den Datensatz in Python ein und bereiten sie ihn auf, so dass statistische Analysen und/oder Visualisierungen wie in den Beispielen aus dem Kurs möglich sind. Planen sie zuerst ihr Vorgehen, bevor sie programmieren.\n",
    "\n",
    "\n",
    "`ACHTUNG: In diesem ersten Teil sollen keine Python-Bibliotheken wie numpy oder pandas zum Einsatz kommen, sondern in etwa so programmiert werden wie in den Beispielen in der Vorlesung (DataSciencester). Matplotlib darf verwendet werden, falls sie eine Visualisierung erstellen wollen.`"
   ]
  },
  {
   "cell_type": "code",
   "execution_count": 105,
   "metadata": {},
   "outputs": [
    {
     "name": "stdout",
     "output_type": "stream",
     "text": [
      "Min Sepal Length of Iris Setosa: 4.3\n",
      "Max Sepal Length of Iris Setosa: 5.8\n"
     ]
    }
   ],
   "source": [
    "import csv\n",
    "\n",
    "def read_iris_data_set():\n",
    "    with open('./data/iris.csv') as csv_file:\n",
    "        csv_reader = csv.reader(csv_file, delimiter='\\t')\n",
    "        line_count = 0\n",
    "        iris_dataset = []\n",
    "        data_start_index = 3\n",
    "        keys = []\n",
    "        for row in csv_reader:\n",
    "            if line_count == 0:\n",
    "                keys = row\n",
    "            if line_count >= data_start_index:\n",
    "                iris_obj = {}\n",
    "                for (index, key) in enumerate(keys):\n",
    "                    is_float = index <= 3\n",
    "                    if is_float:\n",
    "                        iris_obj[key] = float(row[index])\n",
    "                    else:\n",
    "                        iris_obj[key] = row[index]\n",
    "                iris_dataset.append(iris_obj)\n",
    "            line_count += 1\n",
    "        return iris_dataset\n",
    "\n",
    "iris_data = read_iris_data_set()\n",
    "iris_setosa = [x for x in iris_data if x[\"iris\"] == \"Iris-setosa\"]\n",
    "\n",
    "min_sepal_length = min([data[\"sepal length\"] for data in iris_setosa])\n",
    "max_sepal_length = max([data[\"sepal length\"] for data in iris_setosa])\n",
    "\n",
    "print(f\"Min Sepal Length of Iris Setosa: {min_sepal_length}\")\n",
    "print(f\"Max Sepal Length of Iris Setosa: {max_sepal_length}\")\n",
    "\n",
    "\n",
    "\n",
    "\n"
   ]
  }
 ],
 "metadata": {
  "kernelspec": {
   "display_name": "Python 3.10.4 ('.venv': venv)",
   "language": "python",
   "name": "python3"
  },
  "language_info": {
   "codemirror_mode": {
    "name": "ipython",
    "version": 3
   },
   "file_extension": ".py",
   "mimetype": "text/x-python",
   "name": "python",
   "nbconvert_exporter": "python",
   "pygments_lexer": "ipython3",
   "version": "3.10.4"
  },
  "orig_nbformat": 4,
  "vscode": {
   "interpreter": {
    "hash": "511f98252977769337e6ede8befacc6974cba65790423b61aaa108af8e2092b5"
   }
  }
 },
 "nbformat": 4,
 "nbformat_minor": 2
}
