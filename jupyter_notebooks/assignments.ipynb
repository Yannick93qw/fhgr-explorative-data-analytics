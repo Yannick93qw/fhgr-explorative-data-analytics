{
 "cells": [
  {
   "cell_type": "markdown",
   "metadata": {},
   "source": [
    "# Aufgabe 1\n",
    "Schreiben sie einen Generator (Funktion mit \"yield\"), der aufsteigend ungerade Zahlen ab 20 ausgibt. Rufen sie diesen Generator in einer Schleife auf und speichern sie die ersten 10 Werte in einer Liste. Geben sie davon die Werte 4-7 aus."
   ]
  },
  {
   "cell_type": "code",
   "execution_count": 5,
   "metadata": {},
   "outputs": [
    {
     "name": "stdout",
     "output_type": "stream",
     "text": [
      "[29, 31, 33]\n"
     ]
    }
   ],
   "source": [
    "def odd_numbers_from_20():\n",
    "    x = 20\n",
    "    while True:\n",
    "        if x % 2 != 0:\n",
    "            yield x\n",
    "        x += 1\n",
    "\n",
    "generator = odd_numbers_from_20()\n",
    "result = [next(generator) for x in range(10)]\n",
    "print(result[4:7])"
   ]
  },
  {
   "cell_type": "markdown",
   "metadata": {},
   "source": [
    "# Aufgabe 2\n",
    "Denken sie sich ihre Lottozahlen für \"6 aus 45\" aus und speichern sie diese als Liste.\n",
    "Versuchen sie nun mittels eines Zufallsprozesses auch Lottozahlen zu ermitteln und zählen sie die Versuche, bis ihre Zahlen erreicht werden."
   ]
  },
  {
   "cell_type": "code",
   "execution_count": 25,
   "metadata": {},
   "outputs": [
    {
     "name": "stdout",
     "output_type": "stream",
     "text": [
      "It took 63 guesses\n"
     ]
    }
   ],
   "source": [
    "import random\n",
    "\n",
    "random_numbers = [random.randint(1, 45) for x in range(6)]\n",
    "\n",
    "correct_guesses = 0\n",
    "number_of_tries = 0\n",
    "length_of_random_numbers = len(random_numbers)\n",
    "while correct_guesses < length_of_random_numbers:\n",
    "    guess = random.randint(1, 45)\n",
    "    if guess in random_numbers:\n",
    "        # Remove the guesses numbers from the list otherwise the same number could be guessed multiple times.\n",
    "        random_numbers.remove(guess)\n",
    "        correct_guesses += 1\n",
    "    number_of_tries += 1\n",
    "print(f\"It took {number_of_tries} guesses\")"
   ]
  }
 ],
 "metadata": {
  "kernelspec": {
   "display_name": "Python 3.10.4 ('.venv': venv)",
   "language": "python",
   "name": "python3"
  },
  "language_info": {
   "codemirror_mode": {
    "name": "ipython",
    "version": 3
   },
   "file_extension": ".py",
   "mimetype": "text/x-python",
   "name": "python",
   "nbconvert_exporter": "python",
   "pygments_lexer": "ipython3",
   "version": "3.10.4"
  },
  "orig_nbformat": 4,
  "vscode": {
   "interpreter": {
    "hash": "511f98252977769337e6ede8befacc6974cba65790423b61aaa108af8e2092b5"
   }
  }
 },
 "nbformat": 4,
 "nbformat_minor": 2
}
