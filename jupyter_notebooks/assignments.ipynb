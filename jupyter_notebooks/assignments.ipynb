{
 "cells": [
  {
   "cell_type": "markdown",
   "metadata": {},
   "source": [
    "# Aufgabe 1\n",
    "Schreiben sie einen Generator (Funktion mit \"yield\"), der aufsteigend ungerade Zahlen ab 20 ausgibt. Rufen sie diesen Generator in einer Schleife auf und speichern sie die ersten 10 Werte in einer Liste. Geben sie davon die Werte 4-7 aus."
   ]
  },
  {
   "cell_type": "code",
   "execution_count": 5,
   "metadata": {},
   "outputs": [
    {
     "name": "stdout",
     "output_type": "stream",
     "text": [
      "[29, 31, 33]\n"
     ]
    }
   ],
   "source": [
    "def odd_numbers_from_20():\n",
    "    x = 20\n",
    "    while True:\n",
    "        if x % 2 != 0:\n",
    "            yield x\n",
    "        x += 1\n",
    "\n",
    "generator = odd_numbers_from_20()\n",
    "result = [next(generator) for x in range(10)]\n",
    "print(result[4:7])"
   ]
  },
  {
   "cell_type": "markdown",
   "metadata": {},
   "source": [
    "# Aufgabe 2\n",
    "Denken sie sich ihre Lottozahlen für \"6 aus 45\" aus und speichern sie diese als Liste.\n",
    "Versuchen sie nun mittels eines Zufallsprozesses auch Lottozahlen zu ermitteln und zählen sie die Versuche, bis ihre Zahlen erreicht werden."
   ]
  },
  {
   "cell_type": "code",
   "execution_count": 69,
   "metadata": {},
   "outputs": [
    {
     "name": "stdout",
     "output_type": "stream",
     "text": [
      "You won the lottery\n",
      "You needed 12980731 number of tries\n"
     ]
    }
   ],
   "source": [
    "import random\n",
    "\n",
    "lottery_numbers = range(45)\n",
    "winning_numbers = sorted(random.sample(lottery_numbers, 6))\n",
    "\n",
    "tries = 0\n",
    "while True:\n",
    "    guess = range(45)\n",
    "    guessed_numbers = random.sample(guess, 6)\n",
    "\n",
    "    if sorted(guessed_numbers) == winning_numbers:\n",
    "        print(f\"You won the lottery\")\n",
    "        break\n",
    "\n",
    "    tries += 1    \n",
    "\n",
    "print(f\"You needed {tries} number of tries\")\n",
    "\n"
   ]
  },
  {
   "cell_type": "markdown",
   "metadata": {},
   "source": [
    "# Aufgabe: Mittlere Anzahl Freunde von Freunden\n",
    "Ermitteln sie analog zum Beispiel die mittlere Anzahl der Freunde von Freunden im Netzwerk von DataSciencester."
   ]
  },
  {
   "cell_type": "code",
   "execution_count": 92,
   "metadata": {},
   "outputs": [
    {
     "name": "stdout",
     "output_type": "stream",
     "text": [
      "2.0\n"
     ]
    }
   ],
   "source": [
    "from collections import Counter\n",
    "\n",
    "users = [\n",
    "    { \"id\": 0, \"name\": \"Hero\" },\n",
    "    { \"id\": 1, \"name\": \"Dunn\" },\n",
    "    { \"id\": 2, \"name\": \"Sue\" },\n",
    "    { \"id\": 3, \"name\": \"Chi\" },\n",
    "    { \"id\": 4, \"name\": \"Thor\" },\n",
    "    { \"id\": 5, \"name\": \"Clive\" },\n",
    "    { \"id\": 6, \"name\": \"Hicks\" },\n",
    "    { \"id\": 7, \"name\": \"Devin\" },\n",
    "    { \"id\": 8, \"name\": \"Kate\" },\n",
    "    { \"id\": 9, \"name\": \"Klein\" }\n",
    "]\n",
    "\n",
    "friendship_pairs = [(0, 1), (0, 2), (1, 2), (1, 3), (2, 3), (3, 4),\n",
    "                    (4, 5), (5, 6), (5, 7), (6, 8), (7, 8), (8, 9)]\n",
    "\n",
    "\n",
    "friendships = {user[\"id\"]: [] for user in users}\n",
    "\n",
    "# And loop over the friendship pairs to populate it:\n",
    "for i, j in friendship_pairs:\n",
    "    friendships[i].append(j)  # Add j as a friend of user i\n",
    "    friendships[j].append(i)  # Add i as a friend of user j\n",
    "\n",
    "\n",
    "def number_of_friends(user):\n",
    "    \"\"\"How many friends does _user_ have?\"\"\"\n",
    "    user_id = user[\"id\"]\n",
    "    friend_ids = friendships[user_id]\n",
    "    return len(friend_ids)\n",
    "\n",
    "def friends_of_friends(user):\n",
    "    user_id = user[\"id\"]\n",
    "    return Counter(\n",
    "        foaf_id\n",
    "        for friend_id in friendships[user_id]     # For each of my friends,\n",
    "        for foaf_id in friendships[friend_id]     # find their friends\n",
    "        if foaf_id != user_id                     # who aren't me\n",
    "        and foaf_id not in friendships[user_id]   # and aren't my friends.\n",
    "    )\n",
    "\n",
    "def number_of_foaf(user):\n",
    "    \"\"\"How many friends of a friend th _user_ have?\"\"\"\n",
    "    return len(friends_of_friends(user))\n",
    "\n",
    "\n",
    "\n",
    "\n",
    "total_connections_foaf = sum(number_of_foaf(user)\n",
    "                        for user in users)\n",
    "\n",
    "\n",
    "num_users = len(users)\n",
    "avg_connections_foaf = total_connections_foaf / num_users\n",
    "\n",
    "print(avg_connections_foaf)"
   ]
  },
  {
   "cell_type": "markdown",
   "metadata": {},
   "source": [
    "# Zusatzaufgabe: Keine gemeinsamen Interessen\n",
    "Ermitteln sie, ob es im Netzwerk von DataSciencester Nutzer gibt, die keine gemeinsamen Interessen haben."
   ]
  },
  {
   "cell_type": "code",
   "execution_count": 6,
   "metadata": {},
   "outputs": [
    {
     "name": "stdout",
     "output_type": "stream",
     "text": [
      "User with id 10 does not have any interests in common with other users\n"
     ]
    }
   ],
   "source": [
    "from collections import defaultdict, Counter\n",
    "\n",
    "users = [\n",
    "    { \"id\": 0, \"name\": \"Hero\" },\n",
    "    { \"id\": 1, \"name\": \"Dunn\" },\n",
    "    { \"id\": 2, \"name\": \"Sue\" },\n",
    "    { \"id\": 3, \"name\": \"Chi\" },\n",
    "    { \"id\": 4, \"name\": \"Thor\" },\n",
    "    { \"id\": 5, \"name\": \"Clive\" },\n",
    "    { \"id\": 6, \"name\": \"Hicks\" },\n",
    "    { \"id\": 7, \"name\": \"Devin\" },\n",
    "    { \"id\": 8, \"name\": \"Kate\" },\n",
    "    { \"id\": 9, \"name\": \"Klein\" },\n",
    "    { \"id\": 10, \"name\": \"Yannick\" },\n",
    "]\n",
    "\n",
    "interests = [\n",
    "    (0, \"Hadoop\"), (0, \"Big Data\"), (0, \"HBase\"), (0, \"Java\"),\n",
    "    (0, \"Spark\"), (0, \"Storm\"), (0, \"Cassandra\"),\n",
    "    (1, \"NoSQL\"), (1, \"MongoDB\"), (1, \"Cassandra\"), (1, \"HBase\"),\n",
    "    (1, \"Postgres\"), (2, \"Python\"), (2, \"scikit-learn\"), (2, \"scipy\"),\n",
    "    (2, \"numpy\"), (2, \"statsmodels\"), (2, \"pandas\"), (3, \"R\"), (3, \"Python\"),\n",
    "    (3, \"statistics\"), (3, \"regression\"), (3, \"probability\"),\n",
    "    (4, \"machine learning\"), (4, \"regression\"), (4, \"decision trees\"),\n",
    "    (4, \"libsvm\"), (5, \"Python\"), (5, \"R\"), (5, \"Java\"), (5, \"C++\"),\n",
    "    (5, \"Haskell\"), (5, \"programming languages\"), (6, \"statistics\"),\n",
    "    (6, \"probability\"), (6, \"mathematics\"), (6, \"theory\"),\n",
    "    (7, \"machine learning\"), (7, \"scikit-learn\"), (7, \"Mahout\"),\n",
    "    (7, \"neural networks\"), (8, \"neural networks\"), (8, \"deep learning\"),\n",
    "    (8, \"Big Data\"), (8, \"artificial intelligence\"), (9, \"Hadoop\"),\n",
    "    (9, \"Java\"), (9, \"MapReduce\"), (9, \"Big Data\"), (10, \"Game Development\")\n",
    "]\n",
    "\n",
    "# Keys are user_ids, values are lists of interests for that user_id.\n",
    "interests_by_user_id = defaultdict(list)\n",
    "\n",
    "for user_id, interest in interests:\n",
    "    interests_by_user_id[user_id].append(interest)\n",
    "\n",
    "# Keys are interests, values are lists of user_ids with that interest\n",
    "user_ids_by_interest = defaultdict(list)\n",
    "\n",
    "for user_id, interest in interests:\n",
    "    user_ids_by_interest[interest].append(user_id)\n",
    "\n",
    "\n",
    "def most_common_interests_with(user):\n",
    "    return Counter(\n",
    "        interested_user_id\n",
    "        for interest in interests_by_user_id[user[\"id\"]]\n",
    "        for interested_user_id in user_ids_by_interest[interest]\n",
    "        if interested_user_id != user[\"id\"]\n",
    "    )\n",
    "def is_user_with_no_common_interests(user):\n",
    "    return most_common_interests_with(user) == Counter()\n",
    "       \n",
    "for user in users:\n",
    "    if is_user_with_no_common_interests(user):\n",
    "        user_id = user[\"id\"]\n",
    "        print(f\"User with id {user_id} does not have any interests in common with other users\")"
   ]
  },
  {
   "cell_type": "markdown",
   "metadata": {},
   "source": [
    "# Gruppenübung zur Datenanalyse 1\n",
    "\n",
    "Im Moodle ist der bekannte Datensatz \"Iris\" hinterlegt. Sichten sie den Datensatz und überlegen sie, was man damit anfangen könnte.\n",
    "\n",
    "Fragen: Wie ist er aufgebaut? Welche Arten von Daten(werten) liegen vor? Was könnte man mit dem Datensatz anfangen?\n",
    "\n",
    "Lesen sie den Datensatz in Python ein und bereiten sie ihn auf, so dass statistische Analysen und/oder Visualisierungen wie in den Beispielen aus dem Kurs möglich sind. Planen sie zuerst ihr Vorgehen, bevor sie programmieren.\n",
    "\n",
    "\n",
    "`ACHTUNG: In diesem ersten Teil sollen keine Python-Bibliotheken wie numpy oder pandas zum Einsatz kommen, sondern in etwa so programmiert werden wie in den Beispielen in der Vorlesung (DataSciencester). Matplotlib darf verwendet werden, falls sie eine Visualisierung erstellen wollen.`"
   ]
  },
  {
   "cell_type": "code",
   "execution_count": 13,
   "metadata": {},
   "outputs": [
    {
     "name": "stdout",
     "output_type": "stream",
     "text": [
      "###########################################\n",
      "Statistic Values for Iris Type: Iris-setosa\n",
      "###########################################\n",
      "Min Sepal Length: 4.3\n",
      "Max Sepal Length: 5.8\n",
      "Average Sepal Lenght: 5.005999999999999\n",
      "###############################################\n",
      "Statistic Values for Iris Type: Iris-versicolor\n",
      "###############################################\n",
      "Min Sepal Length: 4.9\n",
      "Max Sepal Length: 7.0\n",
      "Average Sepal Lenght: 5.936\n",
      "##############################################\n",
      "Statistic Values for Iris Type: Iris-virginica\n",
      "##############################################\n",
      "Min Sepal Length: 4.9\n",
      "Max Sepal Length: 7.9\n",
      "Average Sepal Lenght: 6.587999999999998\n"
     ]
    }
   ],
   "source": [
    "import csv\n",
    "\n",
    "def read_iris_data_set():\n",
    "    with open('./data/iris.csv') as csv_file:\n",
    "        csv_reader = csv.reader(csv_file, delimiter='\\t')\n",
    "        line_count = 0\n",
    "        iris_dataset = []\n",
    "        data_start_index = 3\n",
    "        keys = []\n",
    "        for row in csv_reader:\n",
    "            if line_count == 0:\n",
    "                keys = row\n",
    "            if line_count >= data_start_index:\n",
    "                iris_obj = {}\n",
    "                for (index, key) in enumerate(keys):\n",
    "                    is_float = index <= 3\n",
    "                    if is_float:\n",
    "                        iris_obj[key] = float(row[index])\n",
    "                    else:\n",
    "                        iris_obj[key] = row[index]\n",
    "                iris_dataset.append(iris_obj)\n",
    "            line_count += 1\n",
    "        return iris_dataset\n",
    "\n",
    "\n",
    "def calculate_statistic_values(iris_data, iris_type):\n",
    "\n",
    "    data_for_type = [x for x in iris_data if x[\"iris\"] == iris_type]\n",
    "\n",
    "    min_sepal_length = min([data[\"sepal length\"] for data in data_for_type])\n",
    "    max_sepal_length = max([data[\"sepal length\"] for data in data_for_type])\n",
    "    average_sepal_length = sum([data[\"sepal length\"] for data in data_for_type]) / len(data_for_type)\n",
    "\n",
    "    header_desc = f\"Statistic Values for Iris Type: {iris_type}\"\n",
    "    print(len(header_desc) * \"#\")\n",
    "    print(header_desc)\n",
    "    print(len(header_desc) * \"#\")\n",
    "    print(f\"Min Sepal Length: {min_sepal_length}\")\n",
    "    print(f\"Max Sepal Length: {max_sepal_length}\")\n",
    "    print(f\"Average Sepal Lenght: {average_sepal_length}\")\n",
    "\n",
    "\n",
    "iris_data = read_iris_data_set()\n",
    "iris_types = [\"Iris-setosa\", \"Iris-versicolor\", \"Iris-virginica\"]\n",
    "\n",
    "for iris_type in iris_types:\n",
    "    calculate_statistic_values(iris_data, iris_type)\n",
    "\n"
   ]
  },
  {
   "cell_type": "markdown",
   "metadata": {},
   "source": [
    "# Weiterführung der Gruppenübung\n",
    "Zusatzaufgaben:\n",
    "\n",
    "* Berechnen sie die Durchschnittswerte der Blattmasse je Art und geben sie diese übersichtlich aus.\n",
    "* Berechnen sie auch die Varianz der Werte. Wo sind am ehesten Überschneidungen zu erwarten? Welche Masse eignen sich gut zur Unterscheidung?"
   ]
  },
  {
   "cell_type": "code",
   "execution_count": 24,
   "metadata": {},
   "outputs": [
    {
     "name": "stdout",
     "output_type": "stream",
     "text": [
      "###########################################\n",
      "Statistic Values for Iris Type: Iris-setosa\n",
      "###########################################\n",
      "Min Sepal Length: 4.3\n",
      "Max Sepal Length: 5.8\n",
      "Average Sepal Lenght: 5.005999999999999\n",
      "Variance Sepal Lenght: 0.12176399999999993\n",
      "Min Sepal Width: 2.3\n",
      "Max Sepal Width: 4.4\n",
      "Average Sepal Width: 3.4180000000000006\n",
      "Variance Sepal Width: 0.142276\n",
      "Min Petal Length: 1.0\n",
      "Max Petal Length: 1.9\n",
      "Average Petal Lenght: 1.464\n",
      "Variance Petal Lenght: 0.02950400000000001\n",
      "Min Petal Width: 0.1\n",
      "Max Petal Width: 0.6\n",
      "Average Petal Width: 0.2439999999999999\n",
      "Variance Petal Width: 0.011263999999999996\n",
      "\n",
      "###############################################\n",
      "Statistic Values for Iris Type: Iris-versicolor\n",
      "###############################################\n",
      "Min Sepal Length: 4.9\n",
      "Max Sepal Length: 7.0\n",
      "Average Sepal Lenght: 5.936\n",
      "Variance Sepal Lenght: 0.2611040000000001\n",
      "Min Sepal Width: 2.0\n",
      "Max Sepal Width: 3.4\n",
      "Average Sepal Width: 2.7700000000000005\n",
      "Variance Sepal Width: 0.09650000000000002\n",
      "Min Petal Length: 3.0\n",
      "Max Petal Length: 5.1\n",
      "Average Petal Lenght: 4.26\n",
      "Variance Petal Lenght: 0.21640000000000012\n",
      "Min Petal Width: 1.0\n",
      "Max Petal Width: 1.8\n",
      "Average Petal Width: 1.3259999999999998\n",
      "Variance Petal Width: 0.03832399999999998\n",
      "\n",
      "##############################################\n",
      "Statistic Values for Iris Type: Iris-virginica\n",
      "##############################################\n",
      "Min Sepal Length: 4.9\n",
      "Max Sepal Length: 7.9\n",
      "Average Sepal Lenght: 6.587999999999998\n",
      "Variance Sepal Lenght: 0.39625599999999994\n",
      "Min Sepal Width: 2.2\n",
      "Max Sepal Width: 3.8\n",
      "Average Sepal Width: 2.9739999999999998\n",
      "Variance Sepal Width: 0.10192400000000007\n",
      "Min Petal Length: 4.5\n",
      "Max Petal Length: 6.9\n",
      "Average Petal Lenght: 5.552\n",
      "Variance Petal Lenght: 0.2984960000000002\n",
      "Min Petal Width: 1.4\n",
      "Max Petal Width: 2.5\n",
      "Average Petal Width: 2.026\n",
      "Variance Petal Width: 0.07392399999999999\n",
      "\n"
     ]
    }
   ],
   "source": [
    "import csv\n",
    "\n",
    "def read_iris_data_set():\n",
    "    with open('./data/iris.csv') as csv_file:\n",
    "        csv_reader = csv.reader(csv_file, delimiter='\\t')\n",
    "        line_count = 0\n",
    "        iris_dataset = []\n",
    "        data_start_index = 3\n",
    "        keys = []\n",
    "        for row in csv_reader:\n",
    "            if line_count == 0:\n",
    "                keys = row\n",
    "            if line_count >= data_start_index:\n",
    "                iris_obj = {}\n",
    "                for (index, key) in enumerate(keys):\n",
    "                    is_float = index <= 3\n",
    "                    if is_float:\n",
    "                        iris_obj[key] = float(row[index])\n",
    "                    else:\n",
    "                        iris_obj[key] = row[index]\n",
    "                iris_dataset.append(iris_obj)\n",
    "            line_count += 1\n",
    "        return iris_dataset\n",
    "\n",
    "def calculate_statistic_values(data_for_type, property):\n",
    "    \"\"\"\n",
    "    Calculates statistic values such as min, max, average and variance for a given property e.g 'sepal length' etc.\n",
    "    \"\"\"\n",
    "    min_value = min([data[property] for data in data_for_type])\n",
    "    max_value = max([data[property] for data in data_for_type])\n",
    "    average_value = sum([data[property] for data in data_for_type]) / len(data_for_type)\n",
    "    variance_value = sum([(data[property] - average_value) ** 2 for data in data_for_type]) / len(data_for_type)\n",
    "\n",
    "    return(min_value, max_value, average_value, variance_value)\n",
    "\n",
    "\n",
    "def print_statistic_values(iris_data, iris_type):\n",
    "\n",
    "    data_for_type = [x for x in iris_data if x[\"iris\"] == iris_type]\n",
    "    \n",
    "    min_sepal_length, max_sepal_length, average_sepal_length, variance_sepal_length = calculate_statistic_values(data_for_type, \"sepal length\")\n",
    "\n",
    "    min_sepal_width, max_sepal_width, average_sepal_width, variance_sepal_width = calculate_statistic_values(data_for_type, \"sepal width\")\n",
    "\n",
    "    min_petal_length, max_petal_length, average_petal_length, variance_petal_length = calculate_statistic_values(data_for_type, \"petal length\")\n",
    "\n",
    "    min_petal_width, max_petal_width, average_petal_width, variance_petal_width = calculate_statistic_values(data_for_type, \"petal width\")\n",
    "\n",
    "\n",
    "    header_desc = f\"Statistic Values for Iris Type: {iris_type}\"\n",
    "    print(len(header_desc) * \"#\")\n",
    "    print(header_desc)\n",
    "    print(len(header_desc) * \"#\")\n",
    "    print(f\"Min Sepal Length: {min_sepal_length}\")\n",
    "    print(f\"Max Sepal Length: {max_sepal_length}\")\n",
    "    print(f\"Average Sepal Lenght: {average_sepal_length}\")\n",
    "    print(f\"Variance Sepal Lenght: {variance_sepal_length}\")\n",
    "\n",
    "    print(f\"Min Sepal Width: {min_sepal_width}\")\n",
    "    print(f\"Max Sepal Width: {max_sepal_width}\")\n",
    "    print(f\"Average Sepal Width: {average_sepal_width}\")\n",
    "    print(f\"Variance Sepal Width: {variance_sepal_width}\")\n",
    "\n",
    "    print(f\"Min Petal Length: {min_petal_length}\")\n",
    "    print(f\"Max Petal Length: {max_petal_length}\")\n",
    "    print(f\"Average Petal Lenght: {average_petal_length}\")\n",
    "    print(f\"Variance Petal Lenght: {variance_petal_length}\")\n",
    "\n",
    "    print(f\"Min Petal Width: {min_petal_width}\")\n",
    "    print(f\"Max Petal Width: {max_petal_width}\")\n",
    "    print(f\"Average Petal Width: {average_petal_width}\")\n",
    "    print(f\"Variance Petal Width: {variance_petal_width}\")\n",
    "\n",
    "iris_data = read_iris_data_set()\n",
    "iris_types = [\"Iris-setosa\", \"Iris-versicolor\", \"Iris-virginica\"]\n",
    "\n",
    "for iris_type in iris_types:\n",
    "    print_statistic_values(iris_data, iris_type)\n",
    "    # Add a new line for better readability\n",
    "    print()\n",
    "\n"
   ]
  },
  {
   "cell_type": "markdown",
   "metadata": {},
   "source": [
    "# Gruppenübung zur Datenanalyse 2\n",
    "Im Gegensatz zum ersten Übungsteil soll nun die Python-Bibliothek \"pandas\" zum Einsatz kommen. Lesen sie den Iris-Datensatz mit pandas ein und erstellen sie auch hier einfache Statistiken - wie vorher in \"pure Python\". "
   ]
  },
  {
   "cell_type": "code",
   "execution_count": 76,
   "metadata": {},
   "outputs": [
    {
     "name": "stdout",
     "output_type": "stream",
     "text": [
      "###########################################\n",
      "Statistic Values for Iris Type: Iris-setosa\n",
      "###########################################\n",
      "Petal Length\n",
      "count    50.000000\n",
      "mean      1.464000\n",
      "std       0.173511\n",
      "min       1.000000\n",
      "25%       1.400000\n",
      "50%       1.500000\n",
      "75%       1.575000\n",
      "max       1.900000\n",
      "Name: petal length, dtype: float64\n",
      "\n",
      "Petal Width\n",
      "count    50.00000\n",
      "mean      0.24400\n",
      "std       0.10721\n",
      "min       0.10000\n",
      "25%       0.20000\n",
      "50%       0.20000\n",
      "75%       0.30000\n",
      "max       0.60000\n",
      "Name: petal width, dtype: float64\n",
      "\n",
      "Sepal Length\n",
      "count    50.00000\n",
      "mean      5.00600\n",
      "std       0.35249\n",
      "min       4.30000\n",
      "25%       4.80000\n",
      "50%       5.00000\n",
      "75%       5.20000\n",
      "max       5.80000\n",
      "Name: sepal length, dtype: float64\n",
      "\n",
      "Sepal Width\n",
      "count    50.000000\n",
      "mean      3.418000\n",
      "std       0.381024\n",
      "min       2.300000\n",
      "25%       3.125000\n",
      "50%       3.400000\n",
      "75%       3.675000\n",
      "max       4.400000\n",
      "Name: sepal width, dtype: float64\n",
      "\n",
      "\n",
      "###############################################\n",
      "Statistic Values for Iris Type: Iris-versicolor\n",
      "###############################################\n",
      "Petal Length\n",
      "count    50.000000\n",
      "mean      4.260000\n",
      "std       0.469911\n",
      "min       3.000000\n",
      "25%       4.000000\n",
      "50%       4.350000\n",
      "75%       4.600000\n",
      "max       5.100000\n",
      "Name: petal length, dtype: float64\n",
      "\n",
      "Petal Width\n",
      "count    50.000000\n",
      "mean      1.326000\n",
      "std       0.197753\n",
      "min       1.000000\n",
      "25%       1.200000\n",
      "50%       1.300000\n",
      "75%       1.500000\n",
      "max       1.800000\n",
      "Name: petal width, dtype: float64\n",
      "\n",
      "Sepal Length\n",
      "count    50.000000\n",
      "mean      5.936000\n",
      "std       0.516171\n",
      "min       4.900000\n",
      "25%       5.600000\n",
      "50%       5.900000\n",
      "75%       6.300000\n",
      "max       7.000000\n",
      "Name: sepal length, dtype: float64\n",
      "\n",
      "Sepal Width\n",
      "count    50.000000\n",
      "mean      2.770000\n",
      "std       0.313798\n",
      "min       2.000000\n",
      "25%       2.525000\n",
      "50%       2.800000\n",
      "75%       3.000000\n",
      "max       3.400000\n",
      "Name: sepal width, dtype: float64\n",
      "\n",
      "\n",
      "##############################################\n",
      "Statistic Values for Iris Type: Iris-virginica\n",
      "##############################################\n",
      "Petal Length\n",
      "count    50.000000\n",
      "mean      5.552000\n",
      "std       0.551895\n",
      "min       4.500000\n",
      "25%       5.100000\n",
      "50%       5.550000\n",
      "75%       5.875000\n",
      "max       6.900000\n",
      "Name: petal length, dtype: float64\n",
      "\n",
      "Petal Width\n",
      "count    50.00000\n",
      "mean      2.02600\n",
      "std       0.27465\n",
      "min       1.40000\n",
      "25%       1.80000\n",
      "50%       2.00000\n",
      "75%       2.30000\n",
      "max       2.50000\n",
      "Name: petal width, dtype: float64\n",
      "\n",
      "Sepal Length\n",
      "count    50.00000\n",
      "mean      6.58800\n",
      "std       0.63588\n",
      "min       4.90000\n",
      "25%       6.22500\n",
      "50%       6.50000\n",
      "75%       6.90000\n",
      "max       7.90000\n",
      "Name: sepal length, dtype: float64\n",
      "\n",
      "Sepal Width\n",
      "count    50.000000\n",
      "mean      2.974000\n",
      "std       0.322497\n",
      "min       2.200000\n",
      "25%       2.800000\n",
      "50%       3.000000\n",
      "75%       3.175000\n",
      "max       3.800000\n",
      "Name: sepal width, dtype: float64\n",
      "\n",
      "\n"
     ]
    }
   ],
   "source": [
    "import pandas as pd\n",
    "\n",
    "def print_iris_statistics(iris_df, iris_type):\n",
    "    iris_type_df = iris_df[iris_df[\"iris\"] == iris_type]\n",
    "\n",
    "    header_desc = f\"Statistic Values for Iris Type: {iris_type}\"\n",
    "    print(len(header_desc) * \"#\")\n",
    "    print(header_desc)\n",
    "    print(len(header_desc) * \"#\")\n",
    "    \n",
    "    print(\"Petal Length\")\n",
    "    print(iris_type_df[\"petal length\"].describe())\n",
    "    print()\n",
    "\n",
    "    print(\"Petal Width\")\n",
    "    print(iris_type_df[\"petal width\"].describe())\n",
    "    print()\n",
    "    \n",
    "    print(\"Sepal Length\")\n",
    "    print(iris_type_df[\"sepal length\"].describe())\n",
    "    print()\n",
    "\n",
    "    print(\"Sepal Width\")\n",
    "    print(iris_type_df[\"sepal width\"].describe())\n",
    "    print()\n",
    "\n",
    "def get_statistic_values_for_type(iris_df, iris_type, property):\n",
    "    iris_type_df = iris_df[iris_df[\"iris\"] == iris_type]\n",
    "\n",
    "    min_value = iris_type_df[property].min()\n",
    "    mean_value = iris_type_df[property].mean()\n",
    "    max_value = iris_type_df[property].max()\n",
    "    variance_value = iris_type_df[property].var()\n",
    "    \n",
    "\n",
    "    return(min_value, max_value, mean_value, variance_value)\n",
    "\n",
    "iris_df = pd.read_csv(\"./data/iris.csv\", sep=\"\\t\", skiprows=[1, 2])\n",
    "    \n",
    "iris_types = [\"Iris-setosa\", \"Iris-versicolor\", \"Iris-virginica\"]\n",
    "\n",
    "for iris_type in iris_types:\n",
    "    print_iris_statistics(iris_df, iris_type)\n",
    "    # Add a new line for better readability\n",
    "    print()\n",
    "\n",
    "# values = get_statistic_values_for_type(iris_df, \"Iris-setosa\", \"sepal length\")\n",
    "# print(values)\n",
    "\n"
   ]
  },
  {
   "cell_type": "markdown",
   "metadata": {},
   "source": [
    "# Aufgabe VIS-1 (zum Warmwerden)\n",
    "Kopieren sie die Beispiel-Visualisierung zum Bruttosozialprodukt (GDP) und erzeugen sie mittels plt.show() die Graphik.\n",
    "\n",
    "Sobald das funktioniert, erweitern sie die graphische Darstellung um (frei erfundene) Werte für 2020 und lassen sich diese Graphik ebenfalls anzeigen."
   ]
  },
  {
   "cell_type": "code",
   "execution_count": 86,
   "metadata": {},
   "outputs": [
    {
     "data": {
      "image/png": "[encoded data removed]",
      "text/plain": [
       "<Figure size 432x288 with 1 Axes>"
      ]
     },
     "metadata": {},
     "output_type": "display_data"
    }
   ],
   "source": [
    "from matplotlib import pyplot as plt\n",
    "plt.style.use('dark_background')\n",
    "\n",
    "years = [1950, 1960, 1970, 1980, 1990, 2000, 2010, 2020]\n",
    "gdp = [300.2, 543.3, 1075.9, 2862.5, 5979.6, 10289.7, 14958.3, 16000]\n",
    "\n",
    "# create a line chart, years on x-axis, gdp on y-axis\n",
    "plt.plot(years, gdp, color='white', marker='o', linestyle='solid')\n",
    "\n",
    "plt.show()"
   ]
  },
  {
   "cell_type": "markdown",
   "metadata": {},
   "source": [
    "# Aufgabe VIS-2: Balkendiagramm\n",
    "Entwickeln sie das Beispiel zu Balkendiagrammen weiter:\n",
    "\n",
    "* Fügen sie einen weiteren Film hinzu\n",
    "* Entfernen sie die direkte Benennung der Balken (xticks)\n",
    "* Fügen sie stattdessen eine Legende als x-Achsenbeschriftung hinzu (0 - Annie Hall, ...)"
   ]
  },
  {
   "cell_type": "code",
   "execution_count": 10,
   "metadata": {},
   "outputs": [
    {
     "data": {
      "image/png": "[encoded data removed]",
      "text/plain": [
       "<Figure size 432x288 with 1 Axes>"
      ]
     },
     "metadata": {},
     "output_type": "display_data"
    }
   ],
   "source": [
    "from matplotlib import pyplot as plt\n",
    "plt.style.use('dark_background')\n",
    "\n",
    "movies = [\"Annie Hall\", \"Ben-Hur\", \"Casablanca\", \"Gandhi\", \"West Side Story\", \"Harry Potter\"]\n",
    "num_oscars = [5, 11, 3, 8, 10, 20]\n",
    "\n",
    "# plot bars with left x-coordinates [0, 1, 2, 3, 4], heights [num_oscars]\n",
    "plt.bar(range(len(movies)), num_oscars, label=[f\"{index}-{name}\" for index, name in enumerate(movies)])\n",
    "\n",
    "\n",
    "plt.title(\"My Favorite Movies\")     # add a title\n",
    "plt.ylabel(\"# of Academy Awards\")   # label the y-axis\n",
    "\n",
    "plt.xticks([])\n",
    "\n",
    "plt.legend(loc=9)\n",
    "\n",
    "plt.show()"
   ]
  },
  {
   "cell_type": "markdown",
   "metadata": {},
   "source": [
    "# Zusatzaufgabe VIS-2.1\n",
    "Visualisieren sie statt der Filme die Anzahl der Freunde pro Nutzer aus dem DataSciencester-Beispiel"
   ]
  },
  {
   "cell_type": "code",
   "execution_count": 20,
   "metadata": {},
   "outputs": [
    {
     "data": {
      "image/png": "[encoded data removed]",
      "text/plain": [
       "<Figure size 432x288 with 1 Axes>"
      ]
     },
     "metadata": {},
     "output_type": "display_data"
    }
   ],
   "source": [
    "from matplotlib import pyplot as plt\n",
    "\n",
    "users = [\n",
    "    { \"id\": 0, \"name\": \"Hero\" },\n",
    "    { \"id\": 1, \"name\": \"Dunn\" },\n",
    "    { \"id\": 2, \"name\": \"Sue\" },\n",
    "    { \"id\": 3, \"name\": \"Chi\" },\n",
    "    { \"id\": 4, \"name\": \"Thor\" },\n",
    "    { \"id\": 5, \"name\": \"Clive\" },\n",
    "    { \"id\": 6, \"name\": \"Hicks\" },\n",
    "    { \"id\": 7, \"name\": \"Devin\" },\n",
    "    { \"id\": 8, \"name\": \"Kate\" },\n",
    "    { \"id\": 9, \"name\": \"Klein\" }\n",
    "]\n",
    "\n",
    "friendship_pairs = [(0, 1), (0, 2), (1, 2), (1, 3), (2, 3), (3, 4),\n",
    "                    (4, 5), (5, 6), (5, 7), (6, 8), (7, 8), (8, 9)]\n",
    "\n",
    "\n",
    "friendships = {user[\"id\"]: [] for user in users}\n",
    "\n",
    "# And loop over the friendship pairs to populate it:\n",
    "for i, j in friendship_pairs:\n",
    "    friendships[i].append(j)  # Add j as a friend of user i\n",
    "    friendships[j].append(i)  # Add i as a friend of user j\n",
    "\n",
    "\n",
    "def number_of_friends(user):\n",
    "    \"\"\"How many friends does _user_ have?\"\"\"\n",
    "    user_id = user[\"id\"]\n",
    "    friend_ids = friendships[user_id]\n",
    "    return len(friend_ids)\n",
    "\n",
    "number_of_friends_per_user = [number_of_friends(user) for user in users]\n",
    "\n",
    "plt.style.use('dark_background')\n",
    "\n",
    "plt.bar(range(len(users)), number_of_friends_per_user)\n",
    "\n",
    "\n",
    "plt.title(\"Number of Friends per User\")     # add a title\n",
    "plt.ylabel(\"# of Friends\")   # label the y-axis\n",
    "plt.xlabel(\"Username\")   # label the x-axis\n",
    "\n",
    "plt.xticks(range(len(users)), [f\"{user['name']}\" for user in users])\n",
    "\n",
    "plt.show()"
   ]
  },
  {
   "cell_type": "markdown",
   "metadata": {},
   "source": [
    "# Aufgabe VIS-3: Histogramm\n",
    "Erweitern sie den Datenbestand (grades) so, dass für jeden Wert (jedes Dezil) auch Daten vorhanden sind und lassen die die neue Graphik anzeigen."
   ]
  },
  {
   "cell_type": "code",
   "execution_count": 46,
   "metadata": {},
   "outputs": [
    {
     "data": {
      "image/png": "[encoded data removed]",
      "text/plain": [
       "<Figure size 432x288 with 1 Axes>"
      ]
     },
     "metadata": {},
     "output_type": "display_data"
    }
   ],
   "source": [
    "from matplotlib import pyplot as plt\n",
    "plt.style.use('dark_background')\n",
    "\n",
    "num_bins = 10\n",
    "grades = [83, 95, 91, 87, 70, 0, 85, 82, 100, 67, 73, 77, 0, 22, 45, 11, 30, 50]\n",
    "\n",
    "plt.hist(grades, num_bins, rwidth=0.95)    # Should have 95% of max width\n",
    "plt.axis([-5, 105, 0, 5])                  # x-axis from -5 to 105,\n",
    "                                           # y-axis from 0 to 5\n",
    "\n",
    "plt.xlabel(\"Decile\")\n",
    "plt.ylabel(\"# of Students\")\n",
    "plt.title(\"Distribution of Exam 1 Grades\")\n",
    "plt.show()"
   ]
  },
  {
   "cell_type": "markdown",
   "metadata": {},
   "source": [
    "# Aufgabe VIS-4: Histogramm\n",
    "Verändern sie die Histogramm-Graphik so, dass statt Dezilen Quintile angezeigt werden. Es soll also nur noch 5 Stufen geben: 0-19, 20-39 ..."
   ]
  },
  {
   "cell_type": "code",
   "execution_count": 47,
   "metadata": {},
   "outputs": [
    {
     "data": {
      "image/png": "[encoded data removed]",
      "text/plain": [
       "<Figure size 432x288 with 1 Axes>"
      ]
     },
     "metadata": {},
     "output_type": "display_data"
    }
   ],
   "source": [
    "from matplotlib import pyplot as plt\n",
    "plt.style.use('dark_background')\n",
    "\n",
    "grades = [83, 95, 91, 87, 70, 0, 85, 82, 100, 67, 73, 77, 0, 22, 45]\n",
    "\n",
    "num_bins = 5\n",
    "plt.hist(grades, num_bins, rwidth=0.95) #rwidht Spaltenbreite in %\n",
    "plt.axis([-5, 105, 0, 5])                  # x-axis from -5 to 105,\n",
    "                                           # y-axis from 0 to 5\n",
    "\n",
    "plt.xlabel(\"Decile\")\n",
    "plt.ylabel(\"# of Students\")\n",
    "plt.title(\"Distribution of Exam 1 Grades\")\n",
    "plt.show()"
   ]
  },
  {
   "cell_type": "markdown",
   "metadata": {},
   "source": [
    "# Zusatzaufgabe VIS-4.1\n",
    "Verwenden sie statt des Histogramms (Balkendiagramms) das zuerst verwendete Liniendiagramm.\n",
    "Was müssen sie tun, um zu einer (halbwegs) brauchbaren Darstellung zu kommen? (Kommentar im Code)"
   ]
  },
  {
   "cell_type": "code",
   "execution_count": 57,
   "metadata": {},
   "outputs": [
    {
     "data": {
      "image/png": "[encoded data removed]",
      "text/plain": [
       "<Figure size 432x288 with 1 Axes>"
      ]
     },
     "metadata": {},
     "output_type": "display_data"
    }
   ],
   "source": [
    "from matplotlib import pyplot as plt\n",
    "plt.style.use('dark_background')\n",
    "grades = [83, 95, 91, 87, 70, 0, 85, 82, 100, 67, 73, 77, 0, 22, 45] # Grades go from 0 (dear lord) to 100\n",
    "students = [index for index, grade in enumerate(grades)]\n",
    "\n",
    "plt.plot(students, grades)\n",
    "plt.xlabel(\"# Student\")\n",
    "plt.ylabel(\"Grade of Studnet\")\n",
    "plt.title(\"Grades per Student\")\n",
    "plt.show()"
   ]
  }
 ],
 "metadata": {
  "kernelspec": {
   "display_name": "Python 3.10.4 64-bit",
   "language": "python",
   "name": "python3"
  },
  "language_info": {
   "codemirror_mode": {
    "name": "ipython",
    "version": 3
   },
   "file_extension": ".py",
   "mimetype": "text/x-python",
   "name": "python",
   "nbconvert_exporter": "python",
   "pygments_lexer": "ipython3",
   "version": "3.10.4"
  },
  "orig_nbformat": 4,
  "vscode": {
   "interpreter": {
    "hash": "31c3b3814fae0316a0d1d0cc1ed7c9f2316a8a8d17bfffecd9cc9ee3c7c943dd"
   }
  }
 },
 "nbformat": 4,
 "nbformat_minor": 2
}
